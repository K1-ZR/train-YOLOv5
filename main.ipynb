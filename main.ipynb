{
  "cells": [
    {
      "cell_type": "markdown",
      "id": "f9391fe0",
      "metadata": {
        "id": "f9391fe0"
      },
      "source": [
        "# Resources\n",
        "*   https://docs.ultralytics.com/tutorials/train-custom-datasets/\n",
        "\n"
      ]
    },
    {
      "cell_type": "markdown",
      "source": [
        ""
      ],
      "metadata": {
        "id": "SxGeEihEF_3M"
      },
      "id": "SxGeEihEF_3M"
    },
    {
      "cell_type": "code",
      "execution_count": null,
      "id": "9d93bc03",
      "metadata": {
        "id": "9d93bc03"
      },
      "outputs": [],
      "source": [
        ""
      ]
    }
  ],
  "metadata": {
    "kernelspec": {
      "display_name": "Python 3 (ipykernel)",
      "language": "python",
      "name": "python3"
    },
    "language_info": {
      "codemirror_mode": {
        "name": "ipython",
        "version": 3
      },
      "file_extension": ".py",
      "mimetype": "text/x-python",
      "name": "python",
      "nbconvert_exporter": "python",
      "pygments_lexer": "ipython3",
      "version": "3.9.7"
    },
    "colab": {
      "name": "main.ipynb",
      "provenance": []
    }
  },
  "nbformat": 4,
  "nbformat_minor": 5
}